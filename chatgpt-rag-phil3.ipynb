{
 "cells": [
  {
   "cell_type": "code",
   "execution_count": 2,
   "metadata": {},
   "outputs": [],
   "source": [
    "# Install required libraries\n",
    "# Uncomment the next line if needed\n",
    "# !pip install dspy-ai transformers pandas\n",
    "\n",
    "# Import libraries\n",
    "import dspy\n",
    "import pandas as pd\n",
    "from transformers import pipeline\n",
    "from typing import List, Dict, Any\n"
   ]
  },
  {
   "cell_type": "code",
   "execution_count": null,
   "metadata": {},
   "outputs": [],
   "source": [
    "class HuggingFaceLanguageModel(dspy.LM):\n",
    "    \"\"\"\n",
    "    Custom Language Model wrapper for Hugging Face transformers\n",
    "    \"\"\"\n",
    "    \n",
    "    # maybe try this\n",
    "    #  Change to a smaller model \n",
    "    # def __init__(self, model_name='distilgpt2'):\n",
    "    # self.generator = pipeline('text-generation', model=model_name)\n",
    "\n",
    "    \n",
    "    def __init__(self, model_name='facebook/opt-350m'):\n",
    "        self.generator = pipeline('text-generation', model=model_name)\n",
    "    \n",
    "    def __call__(self, prompt: str, **kwargs):\n",
    "        # Convert Hugging Face pipeline output to DSPy format\n",
    "        response = self.generator(prompt, max_length=150, **kwargs)[0]['generated_text']\n",
    "        return dspy.Prediction(text=response)\n",
    "\n",
    "\n",
    "class DataProcessor(dspy.Module):\n",
    "    \"\"\"\n",
    "    DSPy Module for processing CSV data and generating insights\n",
    "    \"\"\"\n",
    "    def __init__(self, csv_path: str, column_to_search: str):\n",
    "        super().__init__()\n",
    "        \n",
    "        # Load CSV data\n",
    "        self.df = pd.read_csv(csv_path, usecols=[0, 1, 2, 3, 4, 5])  # Use only the first 6 columns\n",
    "        self.column_to_search = column_to_search\n",
    "        \n",
    "        # Assertion: Ensure the search column exists in the DataFrame\n",
    "        assert self.column_to_search in self.df.columns, f\"Column '{self.column_to_search}' not found in the CSV.\"\n",
    "        \n",
    "        # Configure DSPy with Hugging Face Language Model\n",
    "        self.language_model = HuggingFaceLanguageModel()\n",
    "        dspy.settings.configure(lm=self.language_model)\n",
    "    \n",
    "    def search_data(self, query: str) -> Dict[str, Any]:\n",
    "        \"\"\"\n",
    "        Search CSV data and generate insights\n",
    "        \"\"\"\n",
    "        # Filter dataframe based on query\n",
    "        results = self.df[self.df[self.column_to_search].str.contains(query, case=False, na=False)]\n",
    "        \n",
    "        # Generate summary using language model\n",
    "        summary_prompt = f\"Summarize these {len(results)} results about '{query}': {results.to_string()}\"\n",
    "        summary = self.language_model(summary_prompt).text\n",
    "        \n",
    "        return {\n",
    "            'query_results': results,\n",
    "            'result_count': len(results),\n",
    "            'summary': summary\n",
    "        }\n",
    "\n",
    "    def advanced_analysis(self, query: str, additional_columns: List[str] = None):\n",
    "        \"\"\"\n",
    "        Perform more advanced analysis with multiple columns\n",
    "        \"\"\"\n",
    "        results = self.search_data(query)\n",
    "        \n",
    "        if additional_columns:\n",
    "            # Aggregate additional columns if specified\n",
    "            aggregations = {col: ['mean', 'count'] for col in additional_columns \n",
    "                            if self.df[col].dtype in ['int64', 'float64']}\n",
    "            \n",
    "            additional_stats = results['query_results'].agg(aggregations)\n",
    "            results['additional_stats'] = additional_stats\n",
    "        \n",
    "        return results\n",
    "\n",
    "    def suggest_improvements(self, query: str) -> Dict[str, Any]:\n",
    "        \"\"\"\n",
    "        Suggest improvements based on search results\n",
    "        \"\"\"\n",
    "        results = self.search_data(query)\n",
    "        suggestion_prompt = (\n",
    "            f\"Based on these {len(results['query_results'])} results, suggest ways to refine the search query '{query}' \"\n",
    "            f\"to improve insights or better filter data.\"\n",
    "        )\n",
    "        suggestions = self.language_model(suggestion_prompt).text\n",
    "        return {'query': query, 'suggestions': suggestions}\n",
    "\n",
    "    def optimize_themes(self, query: str) -> Dict[str, Any]:\n",
    "        \"\"\"\n",
    "        Use DSPy optimizer to suggest the best theme combinations for a query\n",
    "        \"\"\"\n",
    "        from dspy import Optimizer\n",
    "        \n",
    "        # Define optimization variables and constraints\n",
    "        optimizer = Optimizer()\n",
    "        optimizer.add_variable(\"fun\", weight=1.0)\n",
    "        optimizer.add_variable(\"rational\", weight=0.5)\n",
    "        optimizer.add_variable(\"positive\", weight=1.5)\n",
    "        optimizer.add_variable(\"spicy\", weight=0.8)\n",
    "        \n",
    "        # Simulate an objective function\n",
    "        optimizer.set_objective(\n",
    "            objective_function=lambda x: x[\"fun\"] + x[\"positive\"] - 0.5 * x[\"spicy\"]\n",
    "        )\n",
    "        \n",
    "        # Solve for the best theme combination\n",
    "        solution = optimizer.solve()\n",
    "        return {\n",
    "            'query': query,\n",
    "            'optimized_themes': solution\n",
    "        }\n"
   ]
  },
  {
   "cell_type": "code",
   "execution_count": null,
   "metadata": {},
   "outputs": [
    {
     "data": {
      "application/vnd.jupyter.widget-view+json": {
       "model_id": "f9b31b6a5840408fb72c3664c09bfcc3",
       "version_major": 2,
       "version_minor": 0
      },
      "text/plain": [
       "config.json:   0%|          | 0.00/644 [00:00<?, ?B/s]"
      ]
     },
     "metadata": {},
     "output_type": "display_data"
    },
    {
     "data": {
      "application/vnd.jupyter.widget-view+json": {
       "model_id": "7b22e376f9694a89a436d46c689b6be0",
       "version_major": 2,
       "version_minor": 0
      },
      "text/plain": [
       "pytorch_model.bin:   0%|          | 0.00/663M [00:00<?, ?B/s]"
      ]
     },
     "metadata": {},
     "output_type": "display_data"
    }
   ],
   "source": [
    "# Load and test the processor with the updated dataset\n",
    "csv_path = './151_ideas_updated.csv'\n",
    "\n",
    "# Initialize the processor\n",
    "processor = DataProcessor(csv_path=csv_path, column_to_search='Theme a')  # Update 'Theme a' as needed\n",
    "\n",
    "# Test basic search functionality\n",
    "query = 'Maximize the Beauty'\n",
    "simple_result = processor.search_data(query)\n",
    "print(\"Simple Search Results:\")\n",
    "print(simple_result['query_results'])\n",
    "print(\"\\nSummary:\", simple_result['summary'])\n"
   ]
  },
  {
   "cell_type": "code",
   "execution_count": null,
   "metadata": {},
   "outputs": [],
   "source": [
    "# Test advanced analysis\n",
    "advanced_result = processor.advanced_analysis(query='Maximize the Beauty', additional_columns=['Theme b', 'Theme c'])\n",
    "print(\"\\nAdvanced Analysis:\")\n",
    "print(advanced_result.get('additional_stats', 'No additional stats available.'))\n",
    "\n",
    "# Test suggestions for query refinement\n",
    "suggestions = processor.suggest_improvements(query)\n",
    "print(\"\\nSuggestions for Query Refinement:\")\n",
    "print(suggestions['suggestions'])\n",
    "\n",
    "# Test optimization of themes\n",
    "optimized = processor.optimize_themes(query)\n",
    "print(\"\\nOptimized Themes:\")\n",
    "print(optimized['optimized_themes'])\n"
   ]
  }
 ],
 "metadata": {
  "kernelspec": {
   "display_name": "nunu24",
   "language": "python",
   "name": "python3"
  },
  "language_info": {
   "codemirror_mode": {
    "name": "ipython",
    "version": 3
   },
   "file_extension": ".py",
   "mimetype": "text/x-python",
   "name": "python",
   "nbconvert_exporter": "python",
   "pygments_lexer": "ipython3",
   "version": "3.12.7"
  }
 },
 "nbformat": 4,
 "nbformat_minor": 2
}
